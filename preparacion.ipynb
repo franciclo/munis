{
 "cells": [
  {
   "cell_type": "code",
   "execution_count": 23,
   "metadata": {
    "collapsed": true
   },
   "outputs": [],
   "source": [
    "import pandas as pd\n",
    "from unicodedata import normalize\n",
    "import re\n",
    "import os\n",
    "import csv\n",
    "from sklearn.feature_extraction.text import TfidfVectorizer, CountVectorizer\n",
    "import nltk\n",
    "from nltk.stem.snowball import SnowballStemmer\n",
    "import pickle\n",
    "import itertools\n",
    "import lda\n",
    "\n",
    "stopwords = nltk.corpus.stopwords.words('spanish')\n",
    "stemmer = SnowballStemmer(\"spanish\")"
   ]
  },
  {
   "cell_type": "code",
   "execution_count": 24,
   "metadata": {
    "collapsed": true
   },
   "outputs": [],
   "source": [
    "munis = pd.read_csv('./data/municipios.csv')[:-1]\n",
    "page_ids = munis['pagina de facebook']"
   ]
  },
  {
   "cell_type": "code",
   "execution_count": 25,
   "metadata": {
    "collapsed": true
   },
   "outputs": [],
   "source": [
    "fullDf = pd.DataFrame({'comentario': [], 'creado': [], 'muni': []})\n",
    "for page_id in page_ids:\n",
    "    has_file = os.path.isfile('./data/%s.csv' % page_id)\n",
    "    if has_file:\n",
    "        df = pd.read_csv('./data/%s.csv' % page_id, encoding='utf-8')\n",
    "        df['muni'] = page_id\n",
    "        fullDf = pd.concat([fullDf, df])\n",
    "        df = None"
   ]
  },
  {
   "cell_type": "code",
   "execution_count": 26,
   "metadata": {
    "collapsed": true
   },
   "outputs": [],
   "source": [
    "fullDf = fullDf.dropna()"
   ]
  },
  {
   "cell_type": "code",
   "execution_count": 27,
   "metadata": {},
   "outputs": [
    {
     "name": "stdout",
     "output_type": "stream",
     "text": [
      "446659\n"
     ]
    }
   ],
   "source": [
    "fullDf['comentario'] = fullDf['comentario']\\\n",
    "    .apply(lambda x: re.sub(r'http\\S+', '', x))\\\n",
    "    .apply(lambda x: re.sub(r'www\\S+', '', x))\\\n",
    "    .apply(lambda x: re.sub(r'facebook\\S+', '', x))\\\n",
    "    .apply(lambda x: normalize('NFKD', x.encode('utf-8').decode('utf8')).encode('ASCII', 'ignore').lower())\\\n",
    "    .apply(lambda x: re.sub('[^A-Za-z\\ ]+', ' ', x))\\\n",
    "    .apply(lambda x: re.sub(r'(.)\\1+', r'\\1\\1', x))\n",
    "    \n",
    "fullDf.dropna(how='any')\n",
    "fullDf = fullDf[fullDf['comentario'].map(len) > 20].sample(frac=1)\n",
    "fullDf = fullDf[fullDf['comentario'].map(len) < 400].sample(frac=1)\n",
    "fullDf.to_csv('./data/full.csv', index=False, encoding='utf-8')\n",
    "print(len(fullDf))"
   ]
  },
  {
   "cell_type": "code",
   "execution_count": 28,
   "metadata": {
    "collapsed": true
   },
   "outputs": [],
   "source": [
    "muestra = 400000"
   ]
  },
  {
   "cell_type": "code",
   "execution_count": 29,
   "metadata": {
    "collapsed": true
   },
   "outputs": [],
   "source": [
    "comentarios = fullDf.sample(muestra)\n",
    "comentarios.to_csv('./data/20-400-%s.csv'%muestra, index=False, encoding='utf-8')\n",
    "comentarios = comentarios['comentario']"
   ]
  },
  {
   "cell_type": "code",
   "execution_count": 30,
   "metadata": {
    "collapsed": true
   },
   "outputs": [],
   "source": [
    "class StemmedTfidfVectorizer(TfidfVectorizer):\n",
    "    def build_analyzer(self):\n",
    "        analyzer = super(TfidfVectorizer, self).build_analyzer()\n",
    "        def stem (doc):\n",
    "            return [\" \".join([stemmer.stem(y) for y in nltk.word_tokenize(x)]) for x in analyzer(doc)]\n",
    "        return stem\n",
    "    \n",
    "tfvectorizer = StemmedTfidfVectorizer(max_df=0.9, min_df=5,\\\n",
    "                                      max_features=10000,\\\n",
    "                                      stop_words=stopwords,\\\n",
    "                                      ngram_range=(1,2))\n",
    "tvz = tfvectorizer.fit_transform(comentarios)\n",
    "\n",
    "pickle.dump(tfvectorizer, open(\"./data/tvz-20-400-%s.pickle\"%muestra, \"wb\"))\n",
    "pickle.dump(tvz, open(\"./data/tvzm-20-400-%s.pickle\"%muestra, \"wb\"))"
   ]
  },
  {
   "cell_type": "code",
   "execution_count": 31,
   "metadata": {
    "collapsed": true
   },
   "outputs": [],
   "source": [
    "class StemmedCountVectorizer(CountVectorizer):\n",
    "    def build_analyzer(self):\n",
    "        analyzer = super(CountVectorizer, self).build_analyzer()\n",
    "        def stem (doc):\n",
    "            return [\" \".join([stemmer.stem(y) for y in nltk.word_tokenize(x)]) for x in analyzer(doc)]\n",
    "        return stem\n",
    "    \n",
    "cvectorizer = StemmedCountVectorizer(max_df=0.9, min_df=5,\\\n",
    "                                     max_features=10000,\\\n",
    "                                     stop_words=stopwords,\\\n",
    "                                     ngram_range=(1,2))\n",
    "cvz = cvectorizer.fit_transform(comentarios)\n",
    "\n",
    "pickle.dump(cvectorizer, open(\"./data/cvz-20-400-%s.pickle\"%muestra, \"wb\"))\n",
    "pickle.dump(cvz, open(\"./data/cvzm-20-400-%s.pickle\"%muestra, \"wb\"))"
   ]
  },
  {
   "cell_type": "code",
   "execution_count": null,
   "metadata": {
    "collapsed": true
   },
   "outputs": [],
   "source": []
  }
 ],
 "metadata": {
  "kernelspec": {
   "display_name": "Python 2",
   "language": "python",
   "name": "python2"
  },
  "language_info": {
   "codemirror_mode": {
    "name": "ipython",
    "version": 2
   },
   "file_extension": ".py",
   "mimetype": "text/x-python",
   "name": "python",
   "nbconvert_exporter": "python",
   "pygments_lexer": "ipython2",
   "version": "2.7.14"
  }
 },
 "nbformat": 4,
 "nbformat_minor": 2
}
